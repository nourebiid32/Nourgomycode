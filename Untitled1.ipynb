{
  "nbformat": 4,
  "nbformat_minor": 0,
  "metadata": {
    "colab": {
      "provenance": [],
      "authorship_tag": "ABX9TyM058wWOZGm7oRU/Q4auPHb",
      "include_colab_link": true
    },
    "kernelspec": {
      "name": "python3",
      "display_name": "Python 3"
    },
    "language_info": {
      "name": "python"
    }
  },
  "cells": [
    {
      "cell_type": "markdown",
      "metadata": {
        "id": "view-in-github",
        "colab_type": "text"
      },
      "source": [
        "<a href=\"https://colab.research.google.com/github/nourebiid32/Nourgomycode/blob/main/Untitled1.ipynb\" target=\"_parent\"><img src=\"https://colab.research.google.com/assets/colab-badge.svg\" alt=\"Open In Colab\"/></a>"
      ]
    },
    {
      "cell_type": "code",
      "execution_count": null,
      "metadata": {
        "id": "4-DIuGetsPMz"
      },
      "outputs": [],
      "source": [
        "for i in range(2000,3200+1):\n",
        "     if i%5!=0 and i%7==0:\n",
        "       print(i,end=\"\")"
      ]
    },
    {
      "cell_type": "code",
      "source": [
        "if(num<0):\n",
        "  print(\"there is no factorial of 0\")\n",
        "elif(num=0):\n",
        "  print(\"the fsctorial of zero is one\")\n",
        "else:\n",
        "  for i in range(i,num+1):\n",
        "    factorial=factorial*i\n",
        "print(factorial)"
      ],
      "metadata": {
        "id": "qhehgL2BtlpL"
      },
      "execution_count": null,
      "outputs": []
    },
    {
      "cell_type": "code",
      "source": [
        "num=int(input(\"enter a number\"))\n",
        "dic=dic()\n",
        "for i in range(1,num+1):\n",
        "  dict[i]=i*i\n",
        "print(dict)"
      ],
      "metadata": {
        "id": "rmE_MCAZvIIY"
      },
      "execution_count": null,
      "outputs": []
    },
    {
      "cell_type": "code",
      "source": [
        "\n",
        "for char in range(0, len(str)):\n",
        "    if(char != n):\n",
        "        modifiedstr += str[char]\n",
        " \n",
        "print(\"Modified string after removing \", n, \"th character \")\n",
        "print(modifiedstr)"
      ],
      "metadata": {
        "id": "VZ9e7sntw8kY"
      },
      "execution_count": null,
      "outputs": []
    },
    {
      "cell_type": "code",
      "source": [
        "import numpy as np\n",
        "x= np.arange(6).reshape(3, 2)\n",
        "print(\"Original array elements:\")\n",
        "print(x)\n",
        "\n",
        "print(x.tolist())"
      ],
      "metadata": {
        "id": "nSOBWKAMx9vZ"
      },
      "execution_count": null,
      "outputs": []
    },
    {
      "cell_type": "code",
      "source": [
        "import numpy as np\n",
        "x = np.array([0, 1, 2])\n",
        "y = np.array([2, 1, 0])\n",
        "\n",
        "print(x)\n",
        "print(y)\n",
        "np.cov(x, y))"
      ],
      "metadata": {
        "id": "QbRPWHKzyMtb"
      },
      "execution_count": null,
      "outputs": []
    },
    {
      "cell_type": "code",
      "source": [
        "import math\n",
        "c = 50\n",
        "h = 30\n",
        "value = []\n",
        "items = [x for x in input().split(',')]\n",
        "for d in items:\n",
        "    value.append(str(int(round(math.sqrt(2*c*float(d)/h)))))\n",
        "print(','.join(value))"
      ],
      "metadata": {
        "id": "5s8vT3TzywK7"
      },
      "execution_count": null,
      "outputs": []
    }
  ]
}